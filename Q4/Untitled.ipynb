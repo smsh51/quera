{
 "cells": [
  {
   "cell_type": "markdown",
   "id": "89300156",
   "metadata": {},
   "source": [
    "### فرودگاه"
   ]
  },
  {
   "cell_type": "code",
   "execution_count": 93,
   "id": "d3733b48",
   "metadata": {},
   "outputs": [
    {
     "name": "stdout",
     "output_type": "stream",
     "text": [
      "2 5\n",
      "s\n",
      "\n",
      "\n"
     ]
    },
    {
     "ename": "ValueError",
     "evalue": "invalid literal for int() with base 10: ''",
     "output_type": "error",
     "traceback": [
      "\u001b[1;31m---------------------------------------------------------------------------\u001b[0m",
      "\u001b[1;31mValueError\u001b[0m                                Traceback (most recent call last)",
      "\u001b[1;32m~\\AppData\\Local\\Temp\\ipykernel_2628\\2012799575.py\u001b[0m in \u001b[0;36m<cell line: 12>\u001b[1;34m()\u001b[0m\n\u001b[0;32m     10\u001b[0m     \u001b[0mline\u001b[0m\u001b[1;33m[\u001b[0m\u001b[0mi\u001b[0m\u001b[1;33m]\u001b[0m \u001b[1;33m=\u001b[0m \u001b[1;36m0\u001b[0m\u001b[1;33m\u001b[0m\u001b[1;33m\u001b[0m\u001b[0m\n\u001b[0;32m     11\u001b[0m \u001b[1;33m\u001b[0m\u001b[0m\n\u001b[1;32m---> 12\u001b[1;33m \u001b[0mq\u001b[0m \u001b[1;33m=\u001b[0m \u001b[0mint\u001b[0m\u001b[1;33m(\u001b[0m\u001b[0minput\u001b[0m\u001b[1;33m(\u001b[0m\u001b[1;33m)\u001b[0m\u001b[1;33m)\u001b[0m\u001b[1;33m\u001b[0m\u001b[1;33m\u001b[0m\u001b[0m\n\u001b[0m\u001b[0;32m     13\u001b[0m \u001b[1;33m\u001b[0m\u001b[0m\n\u001b[0;32m     14\u001b[0m \u001b[1;32mdef\u001b[0m \u001b[0mfree_line\u001b[0m\u001b[1;33m(\u001b[0m\u001b[1;33m)\u001b[0m\u001b[1;33m:\u001b[0m\u001b[1;33m\u001b[0m\u001b[1;33m\u001b[0m\u001b[0m\n",
      "\u001b[1;31mValueError\u001b[0m: invalid literal for int() with base 10: ''"
     ]
    }
   ],
   "source": [
    "n, k = input().split()\n",
    "n,k = int(n), int(k)\n",
    "\n",
    "air = {}\n",
    "for i in range(n):\n",
    "    air[input()] = 1\n",
    "\n",
    "line = {}\n",
    "for i in range(1, k+1):\n",
    "    line[i] = 0\n",
    "\n",
    "q = int(input())\n",
    "\n",
    "def free_line():\n",
    "    for i in range(1, k+1):\n",
    "        if not line[i]:\n",
    "            return i\n",
    "    return False\n",
    "\n",
    "def TAKE_OFF(status):\n",
    "    status = air[status]\n",
    "    line_free = free_line()\n",
    "    if status == 4:\n",
    "        print('YOU ARE NOT HERE')\n",
    "    elif status == 3:\n",
    "        print('YOU ARE LANDING NOW')\n",
    "    elif status == 2:\n",
    "        print('YOU ARE TAKING OFF')\n",
    "    elif (status == 1) and not (line_free):\n",
    "        print('NO FREE BOUND')\n",
    "    else:\n",
    "        line[line_free] = st[1]\n",
    "        air[status] = 2       \n",
    "\n",
    "def LANDING(status):\n",
    "    status = air[status]\n",
    "    line_free = free_line()\n",
    "    if status == 1:\n",
    "        print('YOU ARE HERE')\n",
    "    elif status == 2:\n",
    "        print('YOU ARE TAKING OFF')\n",
    "    elif status == 3:\n",
    "        print('YOU ARE LANDING NOW')\n",
    "    elif (status == 4) and not (line_free):\n",
    "        print('NO FREE BOUND')\n",
    "    else:\n",
    "        for i in range(k):\n",
    "            if not line[k-i]:\n",
    "                line[k-i] = st[1]\n",
    "        air[status] = 3\n",
    "\n",
    "def PLANE_STATUS(status):\n",
    "    print(status)\n",
    "\n",
    "def BAND_STATUS(status):\n",
    "    if not line[status]:\n",
    "        print(line[status])\n",
    "    else:\n",
    "        print('FREE')\n",
    "\n",
    "fun = {'TAKE-OFF':TAKE_OFF,\n",
    "       'LANDING':LANDING,\n",
    "       'PLANE-STATUS':PLANE_STATUS,\n",
    "       'BAND-STATUS':BAND_STATUS}\n",
    "\n",
    "for i in range(q):\n",
    "    st = input().split()\n",
    "    fun[st[0]](st[1])\n"
   ]
  },
  {
   "cell_type": "code",
   "execution_count": 91,
   "id": "788fdfaa",
   "metadata": {},
   "outputs": [
    {
     "data": {
      "text/plain": [
       "{1: '0002000000',\n",
       " 2: '1234567891',\n",
       " 3: '1234567891',\n",
       " 4: '1234567891',\n",
       " 5: '1234567891'}"
      ]
     },
     "execution_count": 91,
     "metadata": {},
     "output_type": "execute_result"
    }
   ],
   "source": [
    "line"
   ]
  },
  {
   "cell_type": "code",
   "execution_count": 92,
   "id": "8cea2e92",
   "metadata": {},
   "outputs": [
    {
     "data": {
      "text/plain": [
       "{'1000000000': 1,\n",
       " '0002000000': 2,\n",
       " '1234567891': 3,\n",
       " '5': 4,\n",
       " '9876543219': 4,\n",
       " '5555555555': 4,\n",
       " '2': 4,\n",
       " '3434343434': 4,\n",
       " '6666666666': 4}"
      ]
     },
     "execution_count": 92,
     "metadata": {},
     "output_type": "execute_result"
    }
   ],
   "source": [
    "air"
   ]
  },
  {
   "cell_type": "code",
   "execution_count": 30,
   "id": "3cbcd636",
   "metadata": {},
   "outputs": [
    {
     "name": "stdout",
     "output_type": "stream",
     "text": [
      "TAKE-OFF 0000000001\n"
     ]
    }
   ],
   "source": [
    "st = input().split()"
   ]
  },
  {
   "cell_type": "code",
   "execution_count": null,
   "id": "13d56a93",
   "metadata": {},
   "outputs": [],
   "source": []
  },
  {
   "cell_type": "code",
   "execution_count": 24,
   "id": "cd102878",
   "metadata": {},
   "outputs": [
    {
     "name": "stdout",
     "output_type": "stream",
     "text": [
      "1\n"
     ]
    }
   ],
   "source": [
    "fun[st](air[ID])"
   ]
  },
  {
   "cell_type": "code",
   "execution_count": 25,
   "id": "48380c3e",
   "metadata": {},
   "outputs": [
    {
     "data": {
      "text/plain": [
       "1"
      ]
     },
     "execution_count": 25,
     "metadata": {},
     "output_type": "execute_result"
    }
   ],
   "source": [
    "air[ID]"
   ]
  },
  {
   "cell_type": "code",
   "execution_count": 5,
   "id": "81f506fd",
   "metadata": {},
   "outputs": [
    {
     "data": {
      "text/plain": [
       "{'0000000001': 1, '0000000002': 1, '0000000003': 1}"
      ]
     },
     "execution_count": 5,
     "metadata": {},
     "output_type": "execute_result"
    }
   ],
   "source": [
    "air"
   ]
  },
  {
   "cell_type": "code",
   "execution_count": null,
   "id": "0dd5333d",
   "metadata": {},
   "outputs": [],
   "source": []
  }
 ],
 "metadata": {
  "kernelspec": {
   "display_name": "Python 3 (ipykernel)",
   "language": "python",
   "name": "python3"
  },
  "language_info": {
   "codemirror_mode": {
    "name": "ipython",
    "version": 3
   },
   "file_extension": ".py",
   "mimetype": "text/x-python",
   "name": "python",
   "nbconvert_exporter": "python",
   "pygments_lexer": "ipython3",
   "version": "3.10.4"
  }
 },
 "nbformat": 4,
 "nbformat_minor": 5
}
