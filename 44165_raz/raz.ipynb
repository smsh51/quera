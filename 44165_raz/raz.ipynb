{
 "cells": [
  {
   "cell_type": "markdown",
   "id": "5925ede4",
   "metadata": {},
   "source": [
    "<center> <span style=\"color:green\"><h3> in the name of GOD</h3></span></center>"
   ]
  },
  {
   "cell_type": "markdown",
   "id": "2f50f1e9",
   "metadata": {},
   "source": [
    "[link question](https://quera.org/contest/assignments/44165/problems/147500)"
   ]
  },
  {
   "cell_type": "markdown",
   "id": "25743a0a",
   "metadata": {},
   "source": [
    "<div>\n",
    "    <div class=\"ui center aligned fluid container\">\n",
    "        <h1>رازداری در مدرسه</h1>\n",
    "    </div>\n",
    "    <br>\n",
    "    <div class=\"description-html\" id=\"description_html-147500\"><ul dir=\"auto\">\n",
    "<li>محدودیت زمان: ۱ ثانیه</li>\n",
    "<li>محدودیت حافظه: ۲۵۶ مگابایت</li>\n",
    "</ul>\n",
    "<hr dir=\"auto\">\n",
    "<p dir=\"auto\"><img src=\"https://quera.org/qbox/view/XB4EolAfWg/problem_03.png\" alt=\"توضیح تصویر\" style=\"cursor: pointer;\"></p>\n",
    "<p dir=\"auto\">در یک مدرسه <span><span class=\"katex\"><span class=\"katex-mathml\"><math><semantics><mrow><mi>n</mi></mrow><annotation encoding=\"application/x-tex\">n</annotation></semantics></math></span><span class=\"katex-html\" aria-hidden=\"true\"><span class=\"strut\" style=\"height: 0.43056em;\"></span><span class=\"strut bottom\" style=\"height: 0.43056em; vertical-align: 0em;\"></span><span class=\"base\"><span class=\"mord mathit\">n</span></span></span></span></span> دوست دور هم جمع شده‌اند. این دوست‌ها را می‌توانیم با اعداد <span><span class=\"katex\"><span class=\"katex-mathml\"><math><semantics><mrow><mn>1</mn></mrow><annotation encoding=\"application/x-tex\">1</annotation></semantics></math></span><span class=\"katex-html\" aria-hidden=\"true\"><span class=\"strut\" style=\"height: 0.64444em;\"></span><span class=\"strut bottom\" style=\"height: 0.64444em; vertical-align: 0em;\"></span><span class=\"base\"><span class=\"mord\">1</span></span></span></span></span> تا <span><span class=\"katex\"><span class=\"katex-mathml\"><math><semantics><mrow><mi>n</mi></mrow><annotation encoding=\"application/x-tex\">n</annotation></semantics></math></span><span class=\"katex-html\" aria-hidden=\"true\"><span class=\"strut\" style=\"height: 0.43056em;\"></span><span class=\"strut bottom\" style=\"height: 0.43056em; vertical-align: 0em;\"></span><span class=\"base\"><span class=\"mord mathit\">n</span></span></span></span></span> شماره‌گذاری کنیم.</p>\n",
    "<p dir=\"auto\">تعدادی رابطه «دهن‌لقی» بین این دوستان وجود دارد؛ یعنی اگر این رابطه از <span><span class=\"katex\"><span class=\"katex-mathml\"><math><semantics><mrow><mi>u</mi></mrow><annotation encoding=\"application/x-tex\">u</annotation></semantics></math></span><span class=\"katex-html\" aria-hidden=\"true\"><span class=\"strut\" style=\"height: 0.43056em;\"></span><span class=\"strut bottom\" style=\"height: 0.43056em; vertical-align: 0em;\"></span><span class=\"base\"><span class=\"mord mathit\">u</span></span></span></span></span> به <span><span class=\"katex\"><span class=\"katex-mathml\"><math><semantics><mrow><mi>v</mi></mrow><annotation encoding=\"application/x-tex\">v</annotation></semantics></math></span><span class=\"katex-html\" aria-hidden=\"true\"><span class=\"strut\" style=\"height: 0.43056em;\"></span><span class=\"strut bottom\" style=\"height: 0.43056em; vertical-align: 0em;\"></span><span class=\"base\"><span class=\"mord mathit\" style=\"margin-right: 0.03588em;\">v</span></span></span></span></span> وجود داشته باشد. اگر <span><span class=\"katex\"><span class=\"katex-mathml\"><math><semantics><mrow><mi>u</mi></mrow><annotation encoding=\"application/x-tex\">u</annotation></semantics></math></span><span class=\"katex-html\" aria-hidden=\"true\"><span class=\"strut\" style=\"height: 0.43056em;\"></span><span class=\"strut bottom\" style=\"height: 0.43056em; vertical-align: 0em;\"></span><span class=\"base\"><span class=\"mord mathit\">u</span></span></span></span></span> رازی از کسی را بداند در یک شب با <span><span class=\"katex\"><span class=\"katex-mathml\"><math><semantics><mrow><mi>v</mi></mrow><annotation encoding=\"application/x-tex\">v</annotation></semantics></math></span><span class=\"katex-html\" aria-hidden=\"true\"><span class=\"strut\" style=\"height: 0.43056em;\"></span><span class=\"strut bottom\" style=\"height: 0.43056em; vertical-align: 0em;\"></span><span class=\"base\"><span class=\"mord mathit\" style=\"margin-right: 0.03588em;\">v</span></span></span></span></span> در یک کافه قرار می‌گذارد و آن راز را به <span><span class=\"katex\"><span class=\"katex-mathml\"><math><semantics><mrow><mi>v</mi></mrow><annotation encoding=\"application/x-tex\">v</annotation></semantics></math></span><span class=\"katex-html\" aria-hidden=\"true\"><span class=\"strut\" style=\"height: 0.43056em;\"></span><span class=\"strut bottom\" style=\"height: 0.43056em; vertical-align: 0em;\"></span><span class=\"base\"><span class=\"mord mathit\" style=\"margin-right: 0.03588em;\">v</span></span></span></span></span> می‌گوید. توجه کنید رابطه‌ی «دهن‌لقی» لزوماً دو طرفه نیست.</p>\n",
    "<p dir=\"auto\">حال در یک روز، <span><span class=\"katex\"><span class=\"katex-mathml\"><math><semantics><mrow><mi>s</mi></mrow><annotation encoding=\"application/x-tex\">s</annotation></semantics></math></span><span class=\"katex-html\" aria-hidden=\"true\"><span class=\"strut\" style=\"height: 0.43056em;\"></span><span class=\"strut bottom\" style=\"height: 0.43056em; vertical-align: 0em;\"></span><span class=\"base\"><span class=\"mord mathit\">s</span></span></span></span></span> یک راز برای <span><span class=\"katex\"><span class=\"katex-mathml\"><math><semantics><mrow><mi>t</mi></mrow><annotation encoding=\"application/x-tex\">t</annotation></semantics></math></span><span class=\"katex-html\" aria-hidden=\"true\"><span class=\"strut\" style=\"height: 0.61508em;\"></span><span class=\"strut bottom\" style=\"height: 0.61508em; vertical-align: 0em;\"></span><span class=\"base\"><span class=\"mord mathit\">t</span></span></span></span></span> از زندگی شخصی‌اش می‌گوید. همچنین می‌دانیم که <span><span class=\"katex\"><span class=\"katex-mathml\"><math><semantics><mrow><mi>t</mi></mrow><annotation encoding=\"application/x-tex\">t</annotation></semantics></math></span><span class=\"katex-html\" aria-hidden=\"true\"><span class=\"strut\" style=\"height: 0.61508em;\"></span><span class=\"strut bottom\" style=\"height: 0.61508em; vertical-align: 0em;\"></span><span class=\"base\"><span class=\"mord mathit\">t</span></span></span></span></span> رابطه دهن‌لقی با <span><span class=\"katex\"><span class=\"katex-mathml\"><math><semantics><mrow><mi>s</mi></mrow><annotation encoding=\"application/x-tex\">s</annotation></semantics></math></span><span class=\"katex-html\" aria-hidden=\"true\"><span class=\"strut\" style=\"height: 0.43056em;\"></span><span class=\"strut bottom\" style=\"height: 0.43056em; vertical-align: 0em;\"></span><span class=\"base\"><span class=\"mord mathit\">s</span></span></span></span></span> ندارد.</p>\n",
    "<p dir=\"auto\">توجه کنید انتقال یک راز از یک‌نفر به یک نفر دیگر یک روز طول می‌کشد. چون یک روز در قراری باید آن را بشنود و در یک روز دیگر این راز را منتقل کند.</p>\n",
    "<p dir=\"auto\">قرارها نیز دو نفره هستند و به صورت گروهی برگزار نمی‌شود.</p>\n",
    "<p dir=\"auto\"><strong>حداقل</strong> چند روز طول می‌کشد تا این راز مجدداً به <span><span class=\"katex\"><span class=\"katex-mathml\"><math><semantics><mrow><mi>s</mi></mrow><annotation encoding=\"application/x-tex\">s</annotation></semantics></math></span><span class=\"katex-html\" aria-hidden=\"true\"><span class=\"strut\" style=\"height: 0.43056em;\"></span><span class=\"strut bottom\" style=\"height: 0.43056em; vertical-align: 0em;\"></span><span class=\"base\"><span class=\"mord mathit\">s</span></span></span></span></span>، توسط دوستی دیگر گفته شود و او متوجه فاش شدن رازش شود.</p>\n",
    "<h1 dir=\"auto\" id=\"ورودی\">ورودی<a class=\"anchorLink\" href=\"#ورودی\">🔗</a></h1>\n",
    "<p dir=\"auto\">ورودی شامل <span><span class=\"katex\"><span class=\"katex-mathml\"><math><semantics><mrow><mi>T</mi></mrow><annotation encoding=\"application/x-tex\">T</annotation></semantics></math></span><span class=\"katex-html\" aria-hidden=\"true\"><span class=\"strut\" style=\"height: 0.68333em;\"></span><span class=\"strut bottom\" style=\"height: 0.68333em; vertical-align: 0em;\"></span><span class=\"base\"><span class=\"mord mathit\" style=\"margin-right: 0.13889em;\">T</span></span></span></span></span> تست نمونه است. \n",
    "<span><span class=\"katex-display\"><span class=\"katex\"><span class=\"katex-mathml\"><math><semantics><mrow><mn>1</mn><mo>≤</mo><mi>T</mi><mo>≤</mo><mn>1</mn><mn>0</mn><mn>0</mn><mspace width=\"0.16667em\"></mspace><mn>0</mn><mn>0</mn><mn>0</mn></mrow><annotation encoding=\"application/x-tex\">1 \\leq T \\leq 100 \\, 000</annotation></semantics></math></span><span class=\"katex-html\" aria-hidden=\"true\"><span class=\"strut\" style=\"height: 0.68333em;\"></span><span class=\"strut bottom\" style=\"height: 0.8193em; vertical-align: -0.13597em;\"></span><span class=\"base\"><span class=\"mord\">1</span><span class=\"mord rule\" style=\"margin-right: 0.277778em;\"></span><span class=\"mrel\">≤</span><span class=\"mord rule\" style=\"margin-right: 0.277778em;\"></span><span class=\"mord mathit\" style=\"margin-right: 0.13889em;\">T</span><span class=\"mord rule\" style=\"margin-right: 0.277778em;\"></span><span class=\"mrel\">≤</span><span class=\"mord rule\" style=\"margin-right: 0.277778em;\"></span><span class=\"mord\">1</span><span class=\"mord\">0</span><span class=\"mord\">0</span><span class=\"mspace thinspace\"></span><span class=\"mord\">0</span><span class=\"mord\">0</span><span class=\"mord\">0</span></span></span></span></span></span></p>\n",
    "<p dir=\"auto\">برای هر تست، در سطر اول ورودی چهار عدد صحیح و مثبت <span><span class=\"katex\"><span class=\"katex-mathml\"><math><semantics><mrow><mi>n</mi></mrow><annotation encoding=\"application/x-tex\">n</annotation></semantics></math></span><span class=\"katex-html\" aria-hidden=\"true\"><span class=\"strut\" style=\"height: 0.43056em;\"></span><span class=\"strut bottom\" style=\"height: 0.43056em; vertical-align: 0em;\"></span><span class=\"base\"><span class=\"mord mathit\">n</span></span></span></span></span>، <span><span class=\"katex\"><span class=\"katex-mathml\"><math><semantics><mrow><mi>m</mi></mrow><annotation encoding=\"application/x-tex\">m</annotation></semantics></math></span><span class=\"katex-html\" aria-hidden=\"true\"><span class=\"strut\" style=\"height: 0.43056em;\"></span><span class=\"strut bottom\" style=\"height: 0.43056em; vertical-align: 0em;\"></span><span class=\"base\"><span class=\"mord mathit\">m</span></span></span></span></span>، <span><span class=\"katex\"><span class=\"katex-mathml\"><math><semantics><mrow><mi>s</mi></mrow><annotation encoding=\"application/x-tex\">s</annotation></semantics></math></span><span class=\"katex-html\" aria-hidden=\"true\"><span class=\"strut\" style=\"height: 0.43056em;\"></span><span class=\"strut bottom\" style=\"height: 0.43056em; vertical-align: 0em;\"></span><span class=\"base\"><span class=\"mord mathit\">s</span></span></span></span></span> و <span><span class=\"katex\"><span class=\"katex-mathml\"><math><semantics><mrow><mi>t</mi></mrow><annotation encoding=\"application/x-tex\">t</annotation></semantics></math></span><span class=\"katex-html\" aria-hidden=\"true\"><span class=\"strut\" style=\"height: 0.61508em;\"></span><span class=\"strut bottom\" style=\"height: 0.61508em; vertical-align: 0em;\"></span><span class=\"base\"><span class=\"mord mathit\">t</span></span></span></span></span> آمده است که به ترتیب نشان‌دهنده‌ی تعداد دانش‌آموزان، تعداد رابطه‌های دهن‌لقی و شخص <span><span class=\"katex\"><span class=\"katex-mathml\"><math><semantics><mrow><mi>s</mi></mrow><annotation encoding=\"application/x-tex\">s</annotation></semantics></math></span><span class=\"katex-html\" aria-hidden=\"true\"><span class=\"strut\" style=\"height: 0.43056em;\"></span><span class=\"strut bottom\" style=\"height: 0.43056em; vertical-align: 0em;\"></span><span class=\"base\"><span class=\"mord mathit\">s</span></span></span></span></span> و <span><span class=\"katex\"><span class=\"katex-mathml\"><math><semantics><mrow><mi>t</mi></mrow><annotation encoding=\"application/x-tex\">t</annotation></semantics></math></span><span class=\"katex-html\" aria-hidden=\"true\"><span class=\"strut\" style=\"height: 0.61508em;\"></span><span class=\"strut bottom\" style=\"height: 0.61508em; vertical-align: 0em;\"></span><span class=\"base\"><span class=\"mord mathit\">t</span></span></span></span></span> است.</p>\n",
    "<p dir=\"auto\"><span><span class=\"katex-display\"><span class=\"katex\"><span class=\"katex-mathml\"><math><semantics><mrow><mn>2</mn><mo>≤</mo><mi>n</mi><mo>≤</mo><mn>1</mn><mn>0</mn><mn>0</mn><mspace width=\"0.16667em\"></mspace><mn>0</mn><mn>0</mn><mn>0</mn></mrow><annotation encoding=\"application/x-tex\">2 \\leq n \\leq 100 \\, 000</annotation></semantics></math></span><span class=\"katex-html\" aria-hidden=\"true\"><span class=\"strut\" style=\"height: 0.64444em;\"></span><span class=\"strut bottom\" style=\"height: 0.78041em; vertical-align: -0.13597em;\"></span><span class=\"base\"><span class=\"mord\">2</span><span class=\"mord rule\" style=\"margin-right: 0.277778em;\"></span><span class=\"mrel\">≤</span><span class=\"mord rule\" style=\"margin-right: 0.277778em;\"></span><span class=\"mord mathit\">n</span><span class=\"mord rule\" style=\"margin-right: 0.277778em;\"></span><span class=\"mrel\">≤</span><span class=\"mord rule\" style=\"margin-right: 0.277778em;\"></span><span class=\"mord\">1</span><span class=\"mord\">0</span><span class=\"mord\">0</span><span class=\"mspace thinspace\"></span><span class=\"mord\">0</span><span class=\"mord\">0</span><span class=\"mord\">0</span></span></span></span></span></span>\n",
    "<span><span class=\"katex-display\"><span class=\"katex\"><span class=\"katex-mathml\"><math><semantics><mrow><mn>0</mn><mo>≤</mo><mi>m</mi><mo>≤</mo><mi>min</mi><mo>⁡</mo><mo>{</mo><mi>n</mi><mo>(</mo><mi>n</mi><mo>−</mo><mn>1</mn><mo>)</mo><mo separator=\"true\">,</mo><mn>1</mn><mn>0</mn><mn>0</mn><mspace width=\"0.16667em\"></mspace><mn>0</mn><mn>0</mn><mn>0</mn><mo>}</mo></mrow><annotation encoding=\"application/x-tex\">0 \\leq m \\leq \\min\\{n(n - 1), 100 \\, 000\\}</annotation></semantics></math></span><span class=\"katex-html\" aria-hidden=\"true\"><span class=\"strut\" style=\"height: 0.75em;\"></span><span class=\"strut bottom\" style=\"height: 1em; vertical-align: -0.25em;\"></span><span class=\"base\"><span class=\"mord\">0</span><span class=\"mord rule\" style=\"margin-right: 0.277778em;\"></span><span class=\"mrel\">≤</span><span class=\"mord rule\" style=\"margin-right: 0.277778em;\"></span><span class=\"mord mathit\">m</span><span class=\"mord rule\" style=\"margin-right: 0.277778em;\"></span><span class=\"mrel\">≤</span><span class=\"mord rule\" style=\"margin-right: 0.277778em;\"></span><span class=\"mop\">min</span><span class=\"mopen\">{</span><span class=\"mord mathit\">n</span><span class=\"mopen\">(</span><span class=\"mord mathit\">n</span><span class=\"mord rule\" style=\"margin-right: 0.222222em;\"></span><span class=\"mbin\">−</span><span class=\"mord rule\" style=\"margin-right: 0.222222em;\"></span><span class=\"mord\">1</span><span class=\"mclose\">)</span><span class=\"mpunct\">,</span><span class=\"mord rule\" style=\"margin-right: 0.166667em;\"></span><span class=\"mord\">1</span><span class=\"mord\">0</span><span class=\"mord\">0</span><span class=\"mspace thinspace\"></span><span class=\"mord\">0</span><span class=\"mord\">0</span><span class=\"mord\">0</span><span class=\"mclose\">}</span></span></span></span></span></span>\n",
    "<span><span class=\"katex-display\"><span class=\"katex\"><span class=\"katex-mathml\"><math><semantics><mrow><mn>1</mn><mo>≤</mo><mi>s</mi><mo>≠</mo><mi>t</mi><mo>≤</mo><mi>n</mi></mrow><annotation encoding=\"application/x-tex\">1 \\leq s \\neq t \\leq n</annotation></semantics></math></span><span class=\"katex-html\" aria-hidden=\"true\"><span class=\"strut\" style=\"height: 0.716em;\"></span><span class=\"strut bottom\" style=\"height: 0.931em; vertical-align: -0.215em;\"></span><span class=\"base\"><span class=\"mord\">1</span><span class=\"mord rule\" style=\"margin-right: 0.277778em;\"></span><span class=\"mrel\">≤</span><span class=\"mord rule\" style=\"margin-right: 0.277778em;\"></span><span class=\"mord mathit\">s</span><span class=\"mord rule\" style=\"margin-right: 0.277778em;\"></span><span class=\"mrel\">≠</span><span class=\"mord rule\" style=\"margin-right: 0.277778em;\"></span><span class=\"mord mathit\">t</span><span class=\"mord rule\" style=\"margin-right: 0.277778em;\"></span><span class=\"mrel\">≤</span><span class=\"mord rule\" style=\"margin-right: 0.277778em;\"></span><span class=\"mord mathit\">n</span></span></span></span></span></span></p>\n",
    "<p dir=\"auto\">تضمین می‌شود <span><span class=\"katex\"><span class=\"katex-mathml\"><math><semantics><mrow><mi>t</mi></mrow><annotation encoding=\"application/x-tex\">t</annotation></semantics></math></span><span class=\"katex-html\" aria-hidden=\"true\"><span class=\"strut\" style=\"height: 0.61508em;\"></span><span class=\"strut bottom\" style=\"height: 0.61508em; vertical-align: 0em;\"></span><span class=\"base\"><span class=\"mord mathit\">t</span></span></span></span></span> رابطه دهن‌لقی با <span><span class=\"katex\"><span class=\"katex-mathml\"><math><semantics><mrow><mi>s</mi></mrow><annotation encoding=\"application/x-tex\">s</annotation></semantics></math></span><span class=\"katex-html\" aria-hidden=\"true\"><span class=\"strut\" style=\"height: 0.43056em;\"></span><span class=\"strut bottom\" style=\"height: 0.43056em; vertical-align: 0em;\"></span><span class=\"base\"><span class=\"mord mathit\">s</span></span></span></span></span> ندارد. در <span><span class=\"katex\"><span class=\"katex-mathml\"><math><semantics><mrow><mi>m</mi></mrow><annotation encoding=\"application/x-tex\">m</annotation></semantics></math></span><span class=\"katex-html\" aria-hidden=\"true\"><span class=\"strut\" style=\"height: 0.43056em;\"></span><span class=\"strut bottom\" style=\"height: 0.43056em; vertical-align: 0em;\"></span><span class=\"base\"><span class=\"mord mathit\">m</span></span></span></span></span> خط بعدی دو عدد صحیح <span><span class=\"katex\"><span class=\"katex-mathml\"><math><semantics><mrow><mi>u</mi></mrow><annotation encoding=\"application/x-tex\">u</annotation></semantics></math></span><span class=\"katex-html\" aria-hidden=\"true\"><span class=\"strut\" style=\"height: 0.43056em;\"></span><span class=\"strut bottom\" style=\"height: 0.43056em; vertical-align: 0em;\"></span><span class=\"base\"><span class=\"mord mathit\">u</span></span></span></span></span> و <span><span class=\"katex\"><span class=\"katex-mathml\"><math><semantics><mrow><mi>v</mi></mrow><annotation encoding=\"application/x-tex\">v</annotation></semantics></math></span><span class=\"katex-html\" aria-hidden=\"true\"><span class=\"strut\" style=\"height: 0.43056em;\"></span><span class=\"strut bottom\" style=\"height: 0.43056em; vertical-align: 0em;\"></span><span class=\"base\"><span class=\"mord mathit\" style=\"margin-right: 0.03588em;\">v</span></span></span></span></span> که با یک فاصله از هم جدا شده‌اند آمده است و نشان‌دهنده‌ی وجود رابطه دهن‌لقی از <span><span class=\"katex\"><span class=\"katex-mathml\"><math><semantics><mrow><mi>u</mi></mrow><annotation encoding=\"application/x-tex\">u</annotation></semantics></math></span><span class=\"katex-html\" aria-hidden=\"true\"><span class=\"strut\" style=\"height: 0.43056em;\"></span><span class=\"strut bottom\" style=\"height: 0.43056em; vertical-align: 0em;\"></span><span class=\"base\"><span class=\"mord mathit\">u</span></span></span></span></span> به <span><span class=\"katex\"><span class=\"katex-mathml\"><math><semantics><mrow><mi>v</mi></mrow><annotation encoding=\"application/x-tex\">v</annotation></semantics></math></span><span class=\"katex-html\" aria-hidden=\"true\"><span class=\"strut\" style=\"height: 0.43056em;\"></span><span class=\"strut bottom\" style=\"height: 0.43056em; vertical-align: 0em;\"></span><span class=\"base\"><span class=\"mord mathit\" style=\"margin-right: 0.03588em;\">v</span></span></span></span></span> است.</p>\n",
    "<p dir=\"auto\"><span><span class=\"katex-display\"><span class=\"katex\"><span class=\"katex-mathml\"><math><semantics><mrow><mn>1</mn><mo>≤</mo><mi>u</mi><mo>≠</mo><mi>v</mi><mo>≤</mo><mi>n</mi></mrow><annotation encoding=\"application/x-tex\">1 \\leq u \\neq v \\leq n</annotation></semantics></math></span><span class=\"katex-html\" aria-hidden=\"true\"><span class=\"strut\" style=\"height: 0.716em;\"></span><span class=\"strut bottom\" style=\"height: 0.931em; vertical-align: -0.215em;\"></span><span class=\"base\"><span class=\"mord\">1</span><span class=\"mord rule\" style=\"margin-right: 0.277778em;\"></span><span class=\"mrel\">≤</span><span class=\"mord rule\" style=\"margin-right: 0.277778em;\"></span><span class=\"mord mathit\">u</span><span class=\"mord rule\" style=\"margin-right: 0.277778em;\"></span><span class=\"mrel\">≠</span><span class=\"mord rule\" style=\"margin-right: 0.277778em;\"></span><span class=\"mord mathit\" style=\"margin-right: 0.03588em;\">v</span><span class=\"mord rule\" style=\"margin-right: 0.277778em;\"></span><span class=\"mrel\">≤</span><span class=\"mord rule\" style=\"margin-right: 0.277778em;\"></span><span class=\"mord mathit\">n</span></span></span></span></span></span></p>\n",
    "<p dir=\"auto\">تضمین می‌شود هر رابطه حداکثر یکبار ورودی داده شود همچنین <span><span class=\"katex\"><span class=\"katex-mathml\"><math><semantics><mrow><mo>∑</mo><mi>n</mi><mo>+</mo><mi>m</mi></mrow><annotation encoding=\"application/x-tex\">\\sum n + m</annotation></semantics></math></span><span class=\"katex-html\" aria-hidden=\"true\"><span class=\"strut\" style=\"height: 0.75em;\"></span><span class=\"strut bottom\" style=\"height: 1.00001em; vertical-align: -0.25001em;\"></span><span class=\"base\"><span class=\"mop op-symbol small-op\" style=\"position: relative; top: -5e-06em;\">∑</span><span class=\"mord rule\" style=\"margin-right: 0.166667em;\"></span><span class=\"mord mathit\">n</span><span class=\"mord rule\" style=\"margin-right: 0.222222em;\"></span><span class=\"mbin\">+</span><span class=\"mord rule\" style=\"margin-right: 0.222222em;\"></span><span class=\"mord mathit\">m</span></span></span></span></span> به‌ازای همه <span><span class=\"katex\"><span class=\"katex-mathml\"><math><semantics><mrow><mi>T</mi></mrow><annotation encoding=\"application/x-tex\">T</annotation></semantics></math></span><span class=\"katex-html\" aria-hidden=\"true\"><span class=\"strut\" style=\"height: 0.68333em;\"></span><span class=\"strut bottom\" style=\"height: 0.68333em; vertical-align: 0em;\"></span><span class=\"base\"><span class=\"mord mathit\" style=\"margin-right: 0.13889em;\">T</span></span></span></span></span> تست از ۱۰۰‌،۰۰۰ بیشتر نمی‌شود.</p>\n",
    "<h1 dir=\"auto\" id=\"خروجی\">خروجی<a class=\"anchorLink\" href=\"#خروجی\">🔗</a></h1>\n",
    "<p dir=\"auto\">در تنها سطر خروجی یک عدد صحیح و مثبت چاپ کنید که حداقل تعداد روزی که باید بگذرد تا <span><span class=\"katex\"><span class=\"katex-mathml\"><math><semantics><mrow><mi>s</mi></mrow><annotation encoding=\"application/x-tex\">s</annotation></semantics></math></span><span class=\"katex-html\" aria-hidden=\"true\"><span class=\"strut\" style=\"height: 0.43056em;\"></span><span class=\"strut bottom\" style=\"height: 0.43056em; vertical-align: 0em;\"></span><span class=\"base\"><span class=\"mord mathit\">s</span></span></span></span></span> متوجه فاش شدن رازش شود.</p>\n",
    "<p dir=\"auto\">اگر هیچ‌وقت چنین اتفاقی نمی‌افتد <code dir=\"ltr\">-1</code> چاپ کنید.</p>\n",
    "<h1 dir=\"auto\" id=\"مثال\">مثال<a class=\"anchorLink\" href=\"#مثال\">🔗</a></h1>\n",
    "<h2 dir=\"auto\" id=\"ورودی-نمونه-۱\">ورودی نمونه ۱<a class=\"anchorLink\" href=\"#ورودی-نمونه-۱\">🔗</a></h2>\n",
    "<div class=\"code-toolbar\"><pre class=\"code-block language-none\" dir=\"ltr\" tabindex=\"0\"><code data-filename=\"undefined\" class=\"language-none\">2\n",
    "3 3 1 2\n",
    "1 2\n",
    "2 3\n",
    "3 1\n",
    "4 3 2 3\n",
    "1 3\n",
    "3 4\n",
    "4 1</code></pre><div class=\"toolbar\"><div class=\"toolbar-item\"><span>Plain text</span></div><div class=\"toolbar-item\"><button class=\"copy-to-clipboard-button\" type=\"button\" data-copy-state=\"copy\"><span>Copy</span></button></div></div></div><h2 dir=\"auto\" id=\"خروجی-نمونه-۱\">خروجی نمونه ۱<a class=\"anchorLink\" href=\"#خروجی-نمونه-۱\">🔗</a></h2>\n",
    "<div class=\"code-toolbar\"><pre class=\"code-block language-none\" dir=\"ltr\" tabindex=\"0\"><code data-filename=\"undefined\" class=\"language-none\">2\n",
    "-1</code></pre><div class=\"toolbar\"><div class=\"toolbar-item\"><span>Plain text</span></div><div class=\"toolbar-item\"><button class=\"copy-to-clipboard-button\" type=\"button\" data-copy-state=\"copy\"><span>Copy</span></button></div></div></div><p dir=\"auto\"><strong>تست اول.</strong></p>\n",
    "<ul dir=\"auto\">\n",
    "<li>در روز اول ۱ رازش را به ۲ می‌گوید.</li>\n",
    "<li>در روز دوم ۲ راز ۱ را به ۳ می‌گوید.</li>\n",
    "<li>در روز سوم ۳ راز ۱ را به ۱ می‌گوید.</li>\n",
    "</ul>\n",
    "<p dir=\"auto\">پس در روز سوم (بعد از گذشت ۲ روز)، شخص ۱ متوجه فاش شدن رازش می‌شود. بنابراین پاسخ این تست برابر ۲ است.</p>\n",
    "<p dir=\"auto\"><img src=\"https://quera.org/qbox/view/PDqzQLbbhT/Slide4.PNG\" alt=\"توضیح تصویر\" style=\"cursor: pointer;\"></p>\n",
    "<p dir=\"auto\"><strong>تست دوم.</strong></p>\n",
    "<ul dir=\"auto\">\n",
    "<li>در روز اول ۲ رازش را به ۳ می‌گوید.</li>\n",
    "<li>در روز دوم ۳ راز ۲ را به ۴ می‌گوید.</li>\n",
    "<li>در روز سوم ۴ راز ۲ را به ۱ می‌گوید.</li>\n",
    "</ul>\n",
    "<p dir=\"auto\">در روز چهارم همه راز ۲ را می‌دانند اما هیچ‌وقت ۲ متوجه نمی‌شود که رازش فاش شده است. بنابراین پاسخ مسئله ۱- خواهد بود.</p>\n",
    "<p dir=\"auto\"><img src=\"https://quera.org/qbox/view/gYQRPyQlXT/Slide5.PNG\" alt=\"توضیح تصویر\" style=\"cursor: pointer;\"></p>\n",
    "<div class=\"ui basic modal\" id=\"img-modal\">\n",
    "            <div class=\"image content\" style=\"justify-content: center; align-items: center\">\n",
    "                <img class=\"image\" style=\"max-width: 100%\" src=\"\">\n",
    "            </div>\n",
    "        </div></div>\n",
    "</div>"
   ]
  },
  {
   "cell_type": "markdown",
   "id": "5de6fbbc",
   "metadata": {},
   "source": [
    "[link Response](https://quera.org/blog/rahnema-college-bootcamp-contest/)"
   ]
  },
  {
   "cell_type": "markdown",
   "id": "0af32c51",
   "metadata": {},
   "source": [
    "راز‌داری در مدرسه\n",
    "مسئله را به‌صورت یک گراف جهت‌دار مدل می‌کنیم؛ به این صورت که اگر شخص u\n",
    "u\n",
    " رابطه‌ی دهن‌لقی با v\n",
    "v\n",
    " داشته باشد، یک یال جهت‌دار از u\n",
    "u\n",
    " به v\n",
    "v\n",
    " رسم می‌کنیم.\n",
    "\n",
    "حال مسئله به پیدا‌کردن کوتاه‌ترین مسیر از رأس t\n",
    "t\n",
    " به رأس s\n",
    "s\n",
    " کاهش پیدا می‌کند. این مسئله را می‌توان با الگوریتم BFS از مرتبه‌ی زمانی O(n + m)\n",
    "O(n+m)\n",
    " حل کرد که آن را در فصل ۱۴ کالج تفکر الگوریتمی پیشرفته و ساختمان‌داده‌ها آموزش داده‌ایم."
   ]
  },
  {
   "cell_type": "markdown",
   "id": "c9d6cbeb",
   "metadata": {},
   "source": [
    "---"
   ]
  },
  {
   "cell_type": "code",
   "execution_count": null,
   "id": "48908750",
   "metadata": {},
   "outputs": [],
   "source": []
  },
  {
   "cell_type": "code",
   "execution_count": null,
   "id": "f30a1061",
   "metadata": {},
   "outputs": [],
   "source": []
  },
  {
   "cell_type": "code",
   "execution_count": null,
   "id": "d4d7b178",
   "metadata": {},
   "outputs": [],
   "source": []
  },
  {
   "cell_type": "code",
   "execution_count": null,
   "id": "973e7d6f",
   "metadata": {},
   "outputs": [],
   "source": []
  },
  {
   "cell_type": "code",
   "execution_count": null,
   "id": "4a333432",
   "metadata": {},
   "outputs": [],
   "source": []
  },
  {
   "cell_type": "code",
   "execution_count": null,
   "id": "d88be9ab",
   "metadata": {},
   "outputs": [],
   "source": []
  },
  {
   "cell_type": "code",
   "execution_count": null,
   "id": "493bcb1e",
   "metadata": {},
   "outputs": [],
   "source": []
  },
  {
   "cell_type": "code",
   "execution_count": null,
   "id": "2a64bb27",
   "metadata": {},
   "outputs": [],
   "source": []
  },
  {
   "cell_type": "code",
   "execution_count": null,
   "id": "d37dde60",
   "metadata": {},
   "outputs": [],
   "source": []
  },
  {
   "cell_type": "code",
   "execution_count": null,
   "id": "87a0e03b",
   "metadata": {},
   "outputs": [],
   "source": []
  },
  {
   "cell_type": "code",
   "execution_count": null,
   "id": "da61a6fe",
   "metadata": {},
   "outputs": [],
   "source": []
  },
  {
   "cell_type": "code",
   "execution_count": null,
   "id": "2921b58e",
   "metadata": {},
   "outputs": [],
   "source": []
  },
  {
   "cell_type": "code",
   "execution_count": null,
   "id": "fd39e840",
   "metadata": {},
   "outputs": [],
   "source": []
  },
  {
   "cell_type": "code",
   "execution_count": null,
   "id": "4e8da317",
   "metadata": {},
   "outputs": [],
   "source": []
  },
  {
   "cell_type": "code",
   "execution_count": null,
   "id": "9bc62fa3",
   "metadata": {},
   "outputs": [],
   "source": []
  },
  {
   "cell_type": "code",
   "execution_count": null,
   "id": "925e2b06",
   "metadata": {},
   "outputs": [],
   "source": []
  },
  {
   "cell_type": "code",
   "execution_count": null,
   "id": "46491645",
   "metadata": {},
   "outputs": [],
   "source": []
  },
  {
   "cell_type": "code",
   "execution_count": null,
   "id": "51df0850",
   "metadata": {},
   "outputs": [],
   "source": []
  },
  {
   "cell_type": "code",
   "execution_count": null,
   "id": "5261e181",
   "metadata": {},
   "outputs": [],
   "source": []
  },
  {
   "cell_type": "code",
   "execution_count": null,
   "id": "7c258104",
   "metadata": {},
   "outputs": [],
   "source": []
  },
  {
   "cell_type": "code",
   "execution_count": null,
   "id": "8d14d325",
   "metadata": {},
   "outputs": [],
   "source": []
  },
  {
   "cell_type": "code",
   "execution_count": null,
   "id": "35bd68d7",
   "metadata": {},
   "outputs": [],
   "source": []
  },
  {
   "cell_type": "code",
   "execution_count": null,
   "id": "03faa14d",
   "metadata": {},
   "outputs": [],
   "source": []
  },
  {
   "cell_type": "code",
   "execution_count": null,
   "id": "1f05c7bf",
   "metadata": {},
   "outputs": [],
   "source": []
  },
  {
   "cell_type": "code",
   "execution_count": null,
   "id": "47b6974b",
   "metadata": {},
   "outputs": [],
   "source": []
  },
  {
   "cell_type": "code",
   "execution_count": null,
   "id": "b5ae1efb",
   "metadata": {},
   "outputs": [],
   "source": []
  },
  {
   "cell_type": "code",
   "execution_count": null,
   "id": "8b357bb8",
   "metadata": {},
   "outputs": [],
   "source": []
  },
  {
   "cell_type": "code",
   "execution_count": null,
   "id": "d252cfc2",
   "metadata": {},
   "outputs": [],
   "source": []
  },
  {
   "cell_type": "code",
   "execution_count": null,
   "id": "1e3552f1",
   "metadata": {},
   "outputs": [],
   "source": []
  }
 ],
 "metadata": {
  "kernelspec": {
   "display_name": "Python 3 (ipykernel)",
   "language": "python",
   "name": "python3"
  },
  "language_info": {
   "codemirror_mode": {
    "name": "ipython",
    "version": 3
   },
   "file_extension": ".py",
   "mimetype": "text/x-python",
   "name": "python",
   "nbconvert_exporter": "python",
   "pygments_lexer": "ipython3",
   "version": "3.10.5"
  }
 },
 "nbformat": 4,
 "nbformat_minor": 5
}
