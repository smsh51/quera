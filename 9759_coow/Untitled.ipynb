{
 "cells": [
  {
   "cell_type": "markdown",
   "id": "e2b12a90",
   "metadata": {},
   "source": [
    "<center><span style=\"color:green\"><h4>in the name of GOD</h4></span></center>"
   ]
  },
  {
   "cell_type": "markdown",
   "id": "6d19934a",
   "metadata": {},
   "source": [
    "+ محدودیت زمان: ۲ ثانیه\n",
    "+ محدودیت حافظه: ۲۵۶ مگابایت\n",
    "\n",
    "----------\n",
    "گاوهای سوکرات برای چریدن در مراتع رها شده‌اند. وقتی به غروب آفتاب نزدیک می‌شویم موقع رفتن گاوها درون اصطبل می‌شود. سوکرات یک زنگ به خصوص را به صدا در می‌آورد که گاوها با شنیدن آن متوجه می‌شوند باید به اصطبل برگردند. سوکرات می‌خواهد بداند کدام گاو سریع‌تر از بقیه به اصطبل می‌رسد.\n",
    "\n",
    "هر گاو در مرتع مربوط به خود جای گرفته است و برخی مراتع گاوی در خود جای نداده‌اند. هر مرتع توسط یک راه به یک مرتع یا چند مرتع دیگر متصل است.\n",
    "گاهی اوقات دو مرتع با بیش از یک راه به هم متصل هستند. حداقل یک مرتع به اصطبل راه دارد. در نتیجه همه گاوها راهی به اصطبل خواهند داشت. همچنین گاوهای سوکرات همواره کوتاه‌ترین راه ممکن تا اصطبل را طی می‌کنند. \n",
    "\n",
    "همه گاوها با سرعت یکسان حرکت می‌کنند و از یک راه همزمان می‌تواند دو گاو عبور کند. مراتع با حروف  ‍‍`A ... Y`  و `a ... z` نامگذاری شده‌اند. یک گاو در مرتعی وجود دارد اگر آن مرتع با حرف بزرگ نامگذاری شده باشد. در مرتعی که با حرف کوچک نامگذاری شده باشد هیچ گاوی وجود ندارد. اصطبل با حرف `Z` نامگذاری شده است و در ابتدا هیچ گاوی در اصطبل وجود ندارد.\n",
    "\n",
    "# ورودی\n",
    "\n",
    "+ خط ۱: عدد صحیح $P$ ( تعداد راه‌هایی که مراتع را به هم وصل می‌کند مشخص می‌نماید.)\n",
    "+ خط ۲ تا $P+1$: شامل دو حرف و یک عدد صحیح که دو حرف مشخص می‌کند چه مرتعی به چه مرتعی وصل شده و عدد صحیح فاصله بین آن دو مرتع را مشخص می‌کند.\n",
    "$$ 1 \\le P \\le 10^4$$\n",
    "$$ 1 \\le distance \\le 10^3$$\n",
    "\n",
    "# خروجی\n",
    "\n",
    "یک خط که شامل دو قسمت است. قسمت اول نام مرتعی ست که گاو آن زودتر به اصطبل می‌رسد که قطعا حرف بزرگ است.\n",
    "\n",
    "قسمت دوم هم طول راهی است که گاو باید طی کند تا به اصطبل برسد.\n",
    "\n",
    "# مثال\n",
    "\n",
    "## ورودی نمونه\n",
    "\n",
    "```\n",
    "5 \n",
    "A d 6\n",
    "B d 3\n",
    "C e 9\n",
    "d Z 8\n",
    "e Z 3\n",
    "```\n",
    "\n",
    "\n",
    "## خروجی نمونه\n",
    "```\n",
    "B 11\n",
    "```"
   ]
  },
  {
   "cell_type": "code",
   "execution_count": null,
   "id": "a3e1f18e",
   "metadata": {},
   "outputs": [],
   "source": [
    "# -*- coding: utf-8 -*-\n",
    "\"\"\"\n",
    "Created on Wed Jul 20 22:29:05 2022\n",
    "\n",
    "@author: s\n",
    "\"\"\"\n",
    "\n",
    "from collections import defaultdict\n",
    "\n",
    "\n",
    "class Graph():\n",
    "    def __init__(self):\n",
    "        self.edges = defaultdict(list)\n",
    "        self.weights = {}\n",
    "        \n",
    "    def addEdge(self, fromVerex, toVertex, weight):\n",
    "        self.edges[fromVerex].append(toVertex)\n",
    "        self.edges[toVertex].append(fromVerex)\n",
    "        self.weights[(fromVerex, toVertex)] = weight\n",
    "        self.weights[(toVertex, fromVerex)] = weight\n",
    "        \n",
    "def dijkstra(myGraph, initial, end):\n",
    "    shortestPaths = {initial: (None, 0)}\n",
    "    currentVertex = initial\n",
    "    visited = set()\n",
    "    while currentVertex != end:\n",
    "        visited.add(currentVertex)\n",
    "        destinations = graph.edges[currentVertex]\n",
    "        weightToCurrentVertex = shortestPaths[currentVertex][1]\n",
    "        for nextVertex in destinations:\n",
    "            weight = graph.weights[(currentVertex, nextVertex)] + weightToCurrentVertex\n",
    "            if nextVertex not in shortestPaths:\n",
    "                shortestPaths[nextVertex] = (currentVertex, weight)\n",
    "            else:\n",
    "                currentShortestWeight = shortestPaths[nextVertex][1]\n",
    "                if currentShortestWeight > weight:\n",
    "                    shortestPaths[nextVertex] = (currentVertex, weight)        \n",
    "        nextDestinations = {vertex: shortestPaths[vertex] for vertex in shortestPaths if vertex not in visited}\n",
    "        if not nextDestinations:\n",
    "            return \"Route Not Possible\"\n",
    "        currentVertex = min(nextDestinations, key=lambda k: nextDestinations[k][1])\n",
    "    path = []\n",
    "    while currentVertex is not None:\n",
    "        path.append(currentVertex)\n",
    "        nextVertex = shortestPaths[currentVertex][0]\n",
    "        currentVertex = nextVertex\n",
    "    path = path[: : -1]\n",
    "    return path, nextDestinations[end][1]\n",
    "\n",
    "\n",
    "\n",
    "graph = Graph()\n",
    "\n",
    "edges = [\n",
    "    ('A', 'd', 6),\n",
    "    ('B', 'd', 3),\n",
    "    ('C', 'e', 9),\n",
    "    ('d', 'Z', 8),\n",
    "    ('e', 'Z', 3),\n",
    "]\n",
    "\n",
    "# =============================================================================\n",
    "# edges = [\n",
    "#     ('A', 'd', 54),\n",
    "#     ('d', ' Z', 8),\n",
    "#     ('B', ' d', 3),\n",
    "#     ('Kermanshah', 'Yasooj', 78),\n",
    "#     ('Ilam', 'Yasooj', 87),\n",
    "#     ('Ilam', 'Ahvaz', 45),\n",
    "#     ('Ahvaz', 'Boushehr', 45),\n",
    "#     ('Boushehr', 'Yasooj', 29),\n",
    "#     ('Boushehr', 'Mashhad', 1600),\n",
    "#     ('Yasooj', 'ShahrKord', 26),\n",
    "#     ('Yasooj', 'Esfahan', 33),\n",
    "#     ('ShahrKord', 'Esfahan', 10),\n",
    "#     ('Esfahan', 'Gorgan', 82),\n",
    "#     ('Esfahan', 'Mashhad', 110)\n",
    "# ]\n",
    "# =============================================================================\n",
    "\n",
    "\n",
    "for edge in edges:\n",
    "    graph.addEdge(*edge)\n",
    "\n",
    "len_cow = {}\n",
    "for i in edges:\n",
    "    if i[0] == i[0].upper():\n",
    "        len_cow[i[0]] = (dijkstra(graph, i[0], 'Z'))[1]\n",
    "        \n",
    "\n",
    "[print(key, value) for key, value in len_cow.items() if value == min(len_cow.values())]\n",
    "\n",
    "\n",
    "\n"
   ]
  },
  {
   "cell_type": "code",
   "execution_count": 5,
   "id": "8f17b905",
   "metadata": {},
   "outputs": [
    {
     "name": "stdout",
     "output_type": "stream",
     "text": [
      "5\n",
      "A b 3\n",
      "s D 4\n",
      "d f 5\n",
      "a e 3\n",
      "f e 4\n"
     ]
    }
   ],
   "source": [
    "edg = []\n",
    "P = int(input())\n",
    "for i in range(P):\n",
    "    m, n, w = input().split()\n",
    "    edg.append((m,n,w))"
   ]
  },
  {
   "cell_type": "markdown",
   "id": "c50fd853",
   "metadata": {},
   "source": [
    "$$\\frac{1}{n}*\\sum_{i=1}^{n} (x_i - \\bar x)^2$$"
   ]
  },
  {
   "cell_type": "markdown",
   "id": "1459e8d5",
   "metadata": {},
   "source": [
    "12,13,14"
   ]
  },
  {
   "cell_type": "code",
   "execution_count": 10,
   "id": "88e66525",
   "metadata": {},
   "outputs": [
    {
     "data": {
      "text/plain": [
       "13.0"
      ]
     },
     "execution_count": 10,
     "metadata": {},
     "output_type": "execute_result"
    }
   ],
   "source": [
    "xb = (12+13+14)/3\n",
    "xb"
   ]
  },
  {
   "cell_type": "code",
   "execution_count": 11,
   "id": "d4c5a077",
   "metadata": {},
   "outputs": [
    {
     "data": {
      "text/plain": [
       "2.0"
      ]
     },
     "execution_count": 11,
     "metadata": {},
     "output_type": "execute_result"
    }
   ],
   "source": [
    "((12-xb)**2) + ((13-xb)**2) + ((14-xb)**2)\n"
   ]
  },
  {
   "cell_type": "code",
   "execution_count": 12,
   "id": "82349cca",
   "metadata": {},
   "outputs": [
    {
     "data": {
      "text/plain": [
       "0.6666666666666666"
      ]
     },
     "execution_count": 12,
     "metadata": {},
     "output_type": "execute_result"
    }
   ],
   "source": [
    "1/3 * 2"
   ]
  },
  {
   "cell_type": "code",
   "execution_count": 6,
   "id": "d7d0179c",
   "metadata": {},
   "outputs": [
    {
     "data": {
      "text/plain": [
       "[('A', 'b', '3'),\n",
       " ('s', 'D', '4'),\n",
       " ('d', 'f', '5'),\n",
       " ('a', 'e', '3'),\n",
       " ('f', 'e', '4')]"
      ]
     },
     "execution_count": 6,
     "metadata": {},
     "output_type": "execute_result"
    }
   ],
   "source": [
    "edg"
   ]
  },
  {
   "cell_type": "code",
   "execution_count": null,
   "id": "3d3b2739",
   "metadata": {},
   "outputs": [],
   "source": [
    "edges = [\n",
    "    ('A', 'd', 6),\n",
    "    ('B', 'd', 3),\n",
    "    ('C', 'e', 9),\n",
    "    ('d', 'Z', 8),\n",
    "    ('e', 'Z', 3),\n",
    "]"
   ]
  }
 ],
 "metadata": {
  "kernelspec": {
   "display_name": "Python 3 (ipykernel)",
   "language": "python",
   "name": "python3"
  },
  "language_info": {
   "codemirror_mode": {
    "name": "ipython",
    "version": 3
   },
   "file_extension": ".py",
   "mimetype": "text/x-python",
   "name": "python",
   "nbconvert_exporter": "python",
   "pygments_lexer": "ipython3",
   "version": "3.10.5"
  }
 },
 "nbformat": 4,
 "nbformat_minor": 5
}
