{
 "cells": [
  {
   "cell_type": "markdown",
   "id": "d069c67b",
   "metadata": {},
   "source": [
    "<div>\n",
    "    <div class=\"ui center aligned fluid container\">\n",
    "        <h1>یک‌میلیون دلار</h1>\n",
    "    </div>\n",
    "    <br>\n",
    "    <div class=\"description-html\" id=\"description_html-147637\"><ul dir=\"auto\">\n",
    "<li>محدودیت زمان: ۱ ثانیه</li>\n",
    "<li>محدودیت حافظه: ۲۵۶ مگابایت</li>\n",
    "</ul>\n",
    "<hr dir=\"auto\">\n",
    "<p dir=\"auto\"><img src=\"https://quera.org/qbox/view/ZfVwzQrlqu/problem_02.png\" alt=\"توضیح تصویر\" style=\"cursor: pointer;\"></p>\n",
    "<p dir=\"auto\">الکس تاو (<em>Alex Tew</em>) یک ایده بسیار جالب دارد و می‌توانید ماجرای اصلی آن را \n",
    "<a href=\"https://en.wikipedia.org/wiki/The_Million_Dollar_Homepage\" target=\"_blank\">اینجا</a> \n",
    "بخوانید. اما داستان تحریف شده آن را در ادامه آورده‌ایم.</p>\n",
    "<p dir=\"auto\">او در صفحه اول یک وب‌سایت یک بنر <span><span class=\"katex\"><span class=\"katex-mathml\"><math><semantics><mrow><mi>n</mi><mo>×</mo><mi>m</mi></mrow><annotation encoding=\"application/x-tex\">n \\times m</annotation></semantics></math></span><span class=\"katex-html\" aria-hidden=\"true\"><span class=\"strut\" style=\"height: 0.58333em;\"></span><span class=\"strut bottom\" style=\"height: 0.66666em; vertical-align: -0.08333em;\"></span><span class=\"base\"><span class=\"mord mathit\">n</span><span class=\"mord rule\" style=\"margin-right: 0.222222em;\"></span><span class=\"mbin\">×</span><span class=\"mord rule\" style=\"margin-right: 0.222222em;\"></span><span class=\"mord mathit\">m</span></span></span></span></span> پیکسل قرار داده است. او قیمت هر پیکسل را یک دلار قرار داده است.</p>\n",
    "<p dir=\"auto\">اما او یک قانون دارد، آن هم این که هر کس می‌تواند یک بلوک <span><span class=\"katex\"><span class=\"katex-mathml\"><math><semantics><mrow><mi>a</mi><mo>×</mo><mi>b</mi></mrow><annotation encoding=\"application/x-tex\">a \\times b</annotation></semantics></math></span><span class=\"katex-html\" aria-hidden=\"true\"><span class=\"strut\" style=\"height: 0.69444em;\"></span><span class=\"strut bottom\" style=\"height: 0.77777em; vertical-align: -0.08333em;\"></span><span class=\"base\"><span class=\"mord mathit\">a</span><span class=\"mord rule\" style=\"margin-right: 0.222222em;\"></span><span class=\"mbin\">×</span><span class=\"mord rule\" style=\"margin-right: 0.222222em;\"></span><span class=\"mord mathit\">b</span></span></span></span></span> از این صفحه را بخرد که قبلا هیچ پیکسلی از آن به فروش نرسیده باشد.</p>\n",
    "<p dir=\"auto\">حال امین می‌خواهد تعدادی از پیکسل‌ها را بخرد به طوری که:</p>\n",
    "<ul dir=\"auto\">\n",
    "<li>هیچ کس نتواند هیچ پیکسل دیگری بخرد.</li>\n",
    "<li>کمترین هزینه را صرف این کار کند.</li>\n",
    "</ul>\n",
    "<h1 dir=\"auto\" id=\"ورودی\">ورودی<a class=\"anchorLink\" href=\"#ورودی\" style=\"visibility: hidden;\">🔗</a></h1>\n",
    "<p dir=\"auto\">در سطر اول ورودی، عدد صحیح <span><span class=\"katex\"><span class=\"katex-mathml\"><math><semantics><mrow><mi>T</mi></mrow><annotation encoding=\"application/x-tex\">T</annotation></semantics></math></span><span class=\"katex-html\" aria-hidden=\"true\"><span class=\"strut\" style=\"height: 0.68333em;\"></span><span class=\"strut bottom\" style=\"height: 0.68333em; vertical-align: 0em;\"></span><span class=\"base\"><span class=\"mord mathit\" style=\"margin-right: 0.13889em;\">T</span></span></span></span></span> آمده، که تعداد تست‌کیس‌ها را نشان‌می‌دهد. \n",
    "<span><span class=\"katex-display\"><span class=\"katex\"><span class=\"katex-mathml\"><math><semantics><mrow><mn>1</mn><mo>≤</mo><mi>T</mi><mo>≤</mo><mn>1</mn><mn>0</mn><mn>0</mn></mrow><annotation encoding=\"application/x-tex\">1 \\leq T \\leq 100</annotation></semantics></math></span><span class=\"katex-html\" aria-hidden=\"true\"><span class=\"strut\" style=\"height: 0.68333em;\"></span><span class=\"strut bottom\" style=\"height: 0.8193em; vertical-align: -0.13597em;\"></span><span class=\"base\"><span class=\"mord\">1</span><span class=\"mord rule\" style=\"margin-right: 0.277778em;\"></span><span class=\"mrel\">≤</span><span class=\"mord rule\" style=\"margin-right: 0.277778em;\"></span><span class=\"mord mathit\" style=\"margin-right: 0.13889em;\">T</span><span class=\"mord rule\" style=\"margin-right: 0.277778em;\"></span><span class=\"mrel\">≤</span><span class=\"mord rule\" style=\"margin-right: 0.277778em;\"></span><span class=\"mord\">1</span><span class=\"mord\">0</span><span class=\"mord\">0</span></span></span></span></span></span></p>\n",
    "<p dir=\"auto\">در  <span><span class=\"katex\"><span class=\"katex-mathml\"><math><semantics><mrow><mi>T</mi></mrow><annotation encoding=\"application/x-tex\">T</annotation></semantics></math></span><span class=\"katex-html\" aria-hidden=\"true\"><span class=\"strut\" style=\"height: 0.68333em;\"></span><span class=\"strut bottom\" style=\"height: 0.68333em; vertical-align: 0em;\"></span><span class=\"base\"><span class=\"mord mathit\" style=\"margin-right: 0.13889em;\">T</span></span></span></span></span> سطر بعدی، در هر سطر چهار عدد صحیح <span><span class=\"katex\"><span class=\"katex-mathml\"><math><semantics><mrow><mi>n</mi></mrow><annotation encoding=\"application/x-tex\">n</annotation></semantics></math></span><span class=\"katex-html\" aria-hidden=\"true\"><span class=\"strut\" style=\"height: 0.43056em;\"></span><span class=\"strut bottom\" style=\"height: 0.43056em; vertical-align: 0em;\"></span><span class=\"base\"><span class=\"mord mathit\">n</span></span></span></span></span>، <span><span class=\"katex\"><span class=\"katex-mathml\"><math><semantics><mrow><mi>m</mi></mrow><annotation encoding=\"application/x-tex\">m</annotation></semantics></math></span><span class=\"katex-html\" aria-hidden=\"true\"><span class=\"strut\" style=\"height: 0.43056em;\"></span><span class=\"strut bottom\" style=\"height: 0.43056em; vertical-align: 0em;\"></span><span class=\"base\"><span class=\"mord mathit\">m</span></span></span></span></span>، <span><span class=\"katex\"><span class=\"katex-mathml\"><math><semantics><mrow><mi>a</mi></mrow><annotation encoding=\"application/x-tex\">a</annotation></semantics></math></span><span class=\"katex-html\" aria-hidden=\"true\"><span class=\"strut\" style=\"height: 0.43056em;\"></span><span class=\"strut bottom\" style=\"height: 0.43056em; vertical-align: 0em;\"></span><span class=\"base\"><span class=\"mord mathit\">a</span></span></span></span></span> و <span><span class=\"katex\"><span class=\"katex-mathml\"><math><semantics><mrow><mi>b</mi></mrow><annotation encoding=\"application/x-tex\">b</annotation></semantics></math></span><span class=\"katex-html\" aria-hidden=\"true\"><span class=\"strut\" style=\"height: 0.69444em;\"></span><span class=\"strut bottom\" style=\"height: 0.69444em; vertical-align: 0em;\"></span><span class=\"base\"><span class=\"mord mathit\">b</span></span></span></span></span> آمده که به ترتیب تعداد سطر و ستون‌های سایت و ابعاد بلوک‌های مجاز برای خریدن است.</p>\n",
    "<p dir=\"auto\"><span><span class=\"katex-display\"><span class=\"katex\"><span class=\"katex-mathml\"><math><semantics><mrow><mn>1</mn><mo>≤</mo><mi>a</mi><mo>≤</mo><mi>n</mi><mo>≤</mo><mn>1</mn><mn>0</mn><mn>0</mn><mn>0</mn><mo separator=\"true\">,</mo><mspace width=\"1em\"></mspace><mspace width=\"1em\"></mspace><mn>1</mn><mo>≤</mo><mi>b</mi><mo>≤</mo><mi>m</mi><mo>≤</mo><mn>1</mn><mn>0</mn><mn>0</mn><mn>0</mn></mrow><annotation encoding=\"application/x-tex\">1 \\leq a \\leq n \\leq 1000, \\quad \\quad 1 \\leq b \\leq m \\leq 1000</annotation></semantics></math></span><span class=\"katex-html\" aria-hidden=\"true\"><span class=\"strut\" style=\"height: 0.69444em;\"></span><span class=\"strut bottom\" style=\"height: 0.88888em; vertical-align: -0.19444em;\"></span><span class=\"base\"><span class=\"mord\">1</span><span class=\"mord rule\" style=\"margin-right: 0.277778em;\"></span><span class=\"mrel\">≤</span><span class=\"mord rule\" style=\"margin-right: 0.277778em;\"></span><span class=\"mord mathit\">a</span><span class=\"mord rule\" style=\"margin-right: 0.277778em;\"></span><span class=\"mrel\">≤</span><span class=\"mord rule\" style=\"margin-right: 0.277778em;\"></span><span class=\"mord mathit\">n</span><span class=\"mord rule\" style=\"margin-right: 0.277778em;\"></span><span class=\"mrel\">≤</span><span class=\"mord rule\" style=\"margin-right: 0.277778em;\"></span><span class=\"mord\">1</span><span class=\"mord\">0</span><span class=\"mord\">0</span><span class=\"mord\">0</span><span class=\"mpunct\">,</span><span class=\"mord rule\" style=\"margin-right: 0.166667em;\"></span><span class=\"mspace quad\"></span><span class=\"mspace quad\"></span><span class=\"mord\">1</span><span class=\"mord rule\" style=\"margin-right: 0.277778em;\"></span><span class=\"mrel\">≤</span><span class=\"mord rule\" style=\"margin-right: 0.277778em;\"></span><span class=\"mord mathit\">b</span><span class=\"mord rule\" style=\"margin-right: 0.277778em;\"></span><span class=\"mrel\">≤</span><span class=\"mord rule\" style=\"margin-right: 0.277778em;\"></span><span class=\"mord mathit\">m</span><span class=\"mord rule\" style=\"margin-right: 0.277778em;\"></span><span class=\"mrel\">≤</span><span class=\"mord rule\" style=\"margin-right: 0.277778em;\"></span><span class=\"mord\">1</span><span class=\"mord\">0</span><span class=\"mord\">0</span><span class=\"mord\">0</span></span></span></span></span></span></p>\n",
    "<h1 dir=\"auto\" id=\"خروجی\">خروجی<a class=\"anchorLink\" href=\"#خروجی\" style=\"visibility: hidden;\">🔗</a></h1>\n",
    "<p dir=\"auto\">خروجی <span><span class=\"katex\"><span class=\"katex-mathml\"><math><semantics><mrow><mi>T</mi></mrow><annotation encoding=\"application/x-tex\">T</annotation></semantics></math></span><span class=\"katex-html\" aria-hidden=\"true\"><span class=\"strut\" style=\"height: 0.68333em;\"></span><span class=\"strut bottom\" style=\"height: 0.68333em; vertical-align: 0em;\"></span><span class=\"base\"><span class=\"mord mathit\" style=\"margin-right: 0.13889em;\">T</span></span></span></span></span> سطر دارد که کمترین تعداد بلوک لازم برای رسیدن به هدف امین را نشان می‌دهد.</p>\n",
    "<h1 dir=\"auto\" id=\"مثال\">مثال<a class=\"anchorLink\" href=\"#مثال\" style=\"visibility: hidden;\">🔗</a></h1>\n",
    "<h2 dir=\"auto\" id=\"ورودی-نمونه-۱\">ورودی نمونه ۱<a class=\"anchorLink\" href=\"#ورودی-نمونه-۱\" style=\"visibility: hidden;\">🔗</a></h2>\n",
    "<div class=\"code-toolbar\"><pre class=\"code-block language-none\" dir=\"ltr\" tabindex=\"0\"><code data-filename=\"undefined\" class=\"language-none\">3\n",
    "5 7 1 1\n",
    "10 10 2 3\n",
    "5 7 2 1</code></pre><div class=\"toolbar\"><div class=\"toolbar-item\"><span>Plain text</span></div><div class=\"toolbar-item\"><button class=\"copy-to-clipboard-button\" type=\"button\" data-copy-state=\"copy\"><span>Copy</span></button></div></div></div><h2 dir=\"auto\" id=\"خروجی-نمونه-۱\">خروجی نمونه ۱<a class=\"anchorLink\" href=\"#خروجی-نمونه-۱\" style=\"visibility: hidden;\">🔗</a></h2>\n",
    "<div class=\"code-toolbar\"><pre class=\"code-block language-none\" dir=\"ltr\" tabindex=\"0\"><code data-filename=\"undefined\" class=\"language-none\">35\n",
    "6\n",
    "14</code></pre><div class=\"toolbar\"><div class=\"toolbar-item\"><span>Plain text</span></div><div class=\"toolbar-item\"><button class=\"copy-to-clipboard-button\" type=\"button\" data-copy-state=\"copy\"><span>Copy</span></button></div></div></div><p dir=\"auto\"><strong>تست اول.</strong></p>\n",
    "<p dir=\"auto\">اگر صفحه اصلی <span><span class=\"katex\"><span class=\"katex-mathml\"><math><semantics><mrow><mn>5</mn><mo>×</mo><mn>7</mn></mrow><annotation encoding=\"application/x-tex\">5\\times7</annotation></semantics></math></span><span class=\"katex-html\" aria-hidden=\"true\"><span class=\"strut\" style=\"height: 0.64444em;\"></span><span class=\"strut bottom\" style=\"height: 0.72777em; vertical-align: -0.08333em;\"></span><span class=\"base\"><span class=\"mord\">5</span><span class=\"mord rule\" style=\"margin-right: 0.222222em;\"></span><span class=\"mbin\">×</span><span class=\"mord rule\" style=\"margin-right: 0.222222em;\"></span><span class=\"mord\">7</span></span></span></span></span> باشد و امکان خرید بلوک‌های <span><span class=\"katex\"><span class=\"katex-mathml\"><math><semantics><mrow><mn>1</mn><mo>×</mo><mn>1</mn></mrow><annotation encoding=\"application/x-tex\">1\\times1</annotation></semantics></math></span><span class=\"katex-html\" aria-hidden=\"true\"><span class=\"strut\" style=\"height: 0.64444em;\"></span><span class=\"strut bottom\" style=\"height: 0.72777em; vertical-align: -0.08333em;\"></span><span class=\"base\"><span class=\"mord\">1</span><span class=\"mord rule\" style=\"margin-right: 0.222222em;\"></span><span class=\"mbin\">×</span><span class=\"mord rule\" style=\"margin-right: 0.222222em;\"></span><span class=\"mord\">1</span></span></span></span></span> باشد، باید همه <span><span class=\"katex\"><span class=\"katex-mathml\"><math><semantics><mrow><mn>3</mn><mn>5</mn></mrow><annotation encoding=\"application/x-tex\">35</annotation></semantics></math></span><span class=\"katex-html\" aria-hidden=\"true\"><span class=\"strut\" style=\"height: 0.64444em;\"></span><span class=\"strut bottom\" style=\"height: 0.64444em; vertical-align: 0em;\"></span><span class=\"base\"><span class=\"mord\">3</span><span class=\"mord\">5</span></span></span></span></span> خانه را بخرد تا کسی نتواند هیچ بلوک دیگری را بخرد.</p>\n",
    "<p dir=\"auto\"><img src=\"https://quera.org/qbox/view/7AA75pIXzd/2-1.png\" alt=\"توضیح تصویر\" style=\"cursor: pointer;\"></p>\n",
    "<p dir=\"auto\"><strong>تست دوم.</strong></p>\n",
    "<p dir=\"auto\">اگر صفحه اصلی <span><span class=\"katex\"><span class=\"katex-mathml\"><math><semantics><mrow><mn>1</mn><mn>0</mn><mo>×</mo><mn>1</mn><mn>0</mn></mrow><annotation encoding=\"application/x-tex\">10\\times10</annotation></semantics></math></span><span class=\"katex-html\" aria-hidden=\"true\"><span class=\"strut\" style=\"height: 0.64444em;\"></span><span class=\"strut bottom\" style=\"height: 0.72777em; vertical-align: -0.08333em;\"></span><span class=\"base\"><span class=\"mord\">1</span><span class=\"mord\">0</span><span class=\"mord rule\" style=\"margin-right: 0.222222em;\"></span><span class=\"mbin\">×</span><span class=\"mord rule\" style=\"margin-right: 0.222222em;\"></span><span class=\"mord\">1</span><span class=\"mord\">0</span></span></span></span></span> باشد و امکان خرید بلوک‌های <span><span class=\"katex\"><span class=\"katex-mathml\"><math><semantics><mrow><mn>2</mn><mo>×</mo><mn>3</mn></mrow><annotation encoding=\"application/x-tex\">2\\times 3</annotation></semantics></math></span><span class=\"katex-html\" aria-hidden=\"true\"><span class=\"strut\" style=\"height: 0.64444em;\"></span><span class=\"strut bottom\" style=\"height: 0.72777em; vertical-align: -0.08333em;\"></span><span class=\"base\"><span class=\"mord\">2</span><span class=\"mord rule\" style=\"margin-right: 0.222222em;\"></span><span class=\"mbin\">×</span><span class=\"mord rule\" style=\"margin-right: 0.222222em;\"></span><span class=\"mord\">3</span></span></span></span></span> باشد‌، می‌تواند با خریدن <span><span class=\"katex\"><span class=\"katex-mathml\"><math><semantics><mrow><mn>6</mn></mrow><annotation encoding=\"application/x-tex\">6</annotation></semantics></math></span><span class=\"katex-html\" aria-hidden=\"true\"><span class=\"strut\" style=\"height: 0.64444em;\"></span><span class=\"strut bottom\" style=\"height: 0.64444em; vertical-align: 0em;\"></span><span class=\"base\"><span class=\"mord\">6</span></span></span></span></span> بلوک مانند تصویر پایین‌، کاری کند که هیچ‌کس نتواند بلوک دیگری بخرد. همچنین می‌توان نشان‌داد حداقل <span><span class=\"katex\"><span class=\"katex-mathml\"><math><semantics><mrow><mn>6</mn></mrow><annotation encoding=\"application/x-tex\">6</annotation></semantics></math></span><span class=\"katex-html\" aria-hidden=\"true\"><span class=\"strut\" style=\"height: 0.64444em;\"></span><span class=\"strut bottom\" style=\"height: 0.64444em; vertical-align: 0em;\"></span><span class=\"base\"><span class=\"mord\">6</span></span></span></span></span> بلوک لازم است.</p>\n",
    "<p dir=\"auto\"><img src=\"https://quera.org/qbox/view/wU7CtGyBTq/2-2.png\" alt=\"توضیح تصویر\" style=\"cursor: pointer;\"></p>\n",
    "<p dir=\"auto\"><strong>تست سوم.</strong></p>\n",
    "<p dir=\"auto\">اگر صفحه اصلی <span><span class=\"katex\"><span class=\"katex-mathml\"><math><semantics><mrow><mn>5</mn><mo>×</mo><mn>7</mn></mrow><annotation encoding=\"application/x-tex\">5\\times7</annotation></semantics></math></span><span class=\"katex-html\" aria-hidden=\"true\"><span class=\"strut\" style=\"height: 0.64444em;\"></span><span class=\"strut bottom\" style=\"height: 0.72777em; vertical-align: -0.08333em;\"></span><span class=\"base\"><span class=\"mord\">5</span><span class=\"mord rule\" style=\"margin-right: 0.222222em;\"></span><span class=\"mbin\">×</span><span class=\"mord rule\" style=\"margin-right: 0.222222em;\"></span><span class=\"mord\">7</span></span></span></span></span> باشد و امکان خرید بلوک‌های <span><span class=\"katex\"><span class=\"katex-mathml\"><math><semantics><mrow><mn>2</mn><mo>×</mo><mn>1</mn></mrow><annotation encoding=\"application/x-tex\">2\\times 1</annotation></semantics></math></span><span class=\"katex-html\" aria-hidden=\"true\"><span class=\"strut\" style=\"height: 0.64444em;\"></span><span class=\"strut bottom\" style=\"height: 0.72777em; vertical-align: -0.08333em;\"></span><span class=\"base\"><span class=\"mord\">2</span><span class=\"mord rule\" style=\"margin-right: 0.222222em;\"></span><span class=\"mbin\">×</span><span class=\"mord rule\" style=\"margin-right: 0.222222em;\"></span><span class=\"mord\">1</span></span></span></span></span> باشد‌، می‌تواند با خریدن <span><span class=\"katex\"><span class=\"katex-mathml\"><math><semantics><mrow><mn>1</mn><mn>4</mn></mrow><annotation encoding=\"application/x-tex\">14</annotation></semantics></math></span><span class=\"katex-html\" aria-hidden=\"true\"><span class=\"strut\" style=\"height: 0.64444em;\"></span><span class=\"strut bottom\" style=\"height: 0.64444em; vertical-align: 0em;\"></span><span class=\"base\"><span class=\"mord\">1</span><span class=\"mord\">4</span></span></span></span></span> بلوک مانند تصویر پایین‌، کاری کند که هیچ‌کس نتواند بلوک دیگری بخرد. همچنین می‌توان نشان‌داد حداقل <span><span class=\"katex\"><span class=\"katex-mathml\"><math><semantics><mrow><mn>1</mn><mn>4</mn></mrow><annotation encoding=\"application/x-tex\">14</annotation></semantics></math></span><span class=\"katex-html\" aria-hidden=\"true\"><span class=\"strut\" style=\"height: 0.64444em;\"></span><span class=\"strut bottom\" style=\"height: 0.64444em; vertical-align: 0em;\"></span><span class=\"base\"><span class=\"mord\">1</span><span class=\"mord\">4</span></span></span></span></span> بلوک لازم است.</p>\n",
    "<p dir=\"auto\"><img src=\"https://quera.org/qbox/view/NbZrsR7nPv/2-3.png\" alt=\"توضیح تصویر\" style=\"cursor: pointer;\"></p>\n",
    "<div class=\"ui basic modal\" id=\"img-modal\">\n",
    "            <div class=\"image content\" style=\"justify-content: center; align-items: center\">\n",
    "                <img class=\"image\" style=\"max-width: 100%\" src=\"\">\n",
    "            </div>\n",
    "        </div></div>\n",
    "</div>"
   ]
  },
  {
   "cell_type": "markdown",
   "id": "c4339f8d",
   "metadata": {},
   "source": [
    "\n",
    "[link](https://quera.org/problemset/147637/)\n",
    "\n"
   ]
  },
  {
   "cell_type": "markdown",
   "id": "93999b30",
   "metadata": {},
   "source": [
    "[لینک راه حل](https://quera.org/blog/rahnema-college-bootcamp-contest/)"
   ]
  },
  {
   "cell_type": "markdown",
   "id": "a53ea48a",
   "metadata": {},
   "source": [
    "<h2 id=\"یک-میلیون-دلار\" style=\"font-size:18px\"><a href=\"https://quera.org/problemset/147637/\" target=\"_blank\" rel=\"noreferrer noopener\"><strong>یک میلیون دلار</strong></a></h2>\n",
    "<p>اگر یک جدول&nbsp;<span class=\"katex-eq katex-rendered\" data-katex-display=\"false\"><span class=\"katex\"><span class=\"katex-mathml\"><math xmlns=\"http://www.w3.org/1998/Math/MathML\"><semantics><mrow><mi>n</mi><mo>×</mo><mi>m</mi></mrow><annotation encoding=\"application/x-tex\">n \\times m</annotation></semantics></math></span><span class=\"katex-html\" aria-hidden=\"true\"><span class=\"base\"><span class=\"strut\" style=\"height: 0.66666em; vertical-align: -0.08333em;\"></span><span class=\"mord mathnormal\">n</span><span class=\"mspace\" style=\"margin-right: 0.222222em;\"></span><span class=\"mbin\">×</span><span class=\"mspace\" style=\"margin-right: 0.222222em;\"></span></span><span class=\"base\"><span class=\"strut\" style=\"height: 0.43056em; vertical-align: 0em;\"></span><span class=\"mord mathnormal\">m</span></span></span></span></span>&nbsp;داشته باشیم، کمترین تعداد بلوک&nbsp;<span class=\"katex-eq katex-rendered\" data-katex-display=\"false\"><span class=\"katex\"><span class=\"katex-mathml\"><math xmlns=\"http://www.w3.org/1998/Math/MathML\"><semantics><mrow><mi>a</mi><mo>×</mo><mi>b</mi></mrow><annotation encoding=\"application/x-tex\">a \\times b</annotation></semantics></math></span><span class=\"katex-html\" aria-hidden=\"true\"><span class=\"base\"><span class=\"strut\" style=\"height: 0.66666em; vertical-align: -0.08333em;\"></span><span class=\"mord mathnormal\">a</span><span class=\"mspace\" style=\"margin-right: 0.222222em;\"></span><span class=\"mbin\">×</span><span class=\"mspace\" style=\"margin-right: 0.222222em;\"></span></span><span class=\"base\"><span class=\"strut\" style=\"height: 0.69444em; vertical-align: 0em;\"></span><span class=\"mord mathnormal\">b</span></span></span></span></span>&nbsp;که می‌توان در آن قرار داد به‌طوری که هیچ بلوک دیگری در آن جا نشود برابر است با:</p>\n",
    "\n",
    "$$\\lfloor \\frac{n - a + 1}{2a - 1} \\rfloor . \\lfloor \\frac{m - b + 1}{2b - 1} \\rfloor$$"
   ]
  },
  {
   "cell_type": "code",
   "execution_count": 20,
   "id": "98d37c86",
   "metadata": {},
   "outputs": [
    {
     "name": "stdout",
     "output_type": "stream",
     "text": [
      "3\n",
      "5 7 1 1\n",
      "35\n",
      "10 10 2 3\n",
      "6\n",
      "5 7 2 1\n",
      "14\n"
     ]
    }
   ],
   "source": [
    "from numpy import ceil\n",
    "T = input()\n",
    "for i in range(int(T)):\n",
    "    n, m, a, b = input().split()\n",
    "    n, m, a, b = int(n), int(m), int(a), int(b)\n",
    "    ans = (ceil((n-a+1) / ((2*a)-1))) * (ceil((m-b+1) / ((2*b)-1)))\n",
    "    print(int(ans))"
   ]
  }
 ],
 "metadata": {
  "kernelspec": {
   "display_name": "Python 3 (ipykernel)",
   "language": "python",
   "name": "python3"
  },
  "language_info": {
   "codemirror_mode": {
    "name": "ipython",
    "version": 3
   },
   "file_extension": ".py",
   "mimetype": "text/x-python",
   "name": "python",
   "nbconvert_exporter": "python",
   "pygments_lexer": "ipython3",
   "version": "3.10.4"
  }
 },
 "nbformat": 4,
 "nbformat_minor": 5
}
