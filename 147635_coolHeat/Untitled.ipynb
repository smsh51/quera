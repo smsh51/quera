{
 "cells": [
  {
   "cell_type": "code",
   "execution_count": 5,
   "id": "916c2dc7",
   "metadata": {
    "scrolled": true
   },
   "outputs": [
    {
     "name": "stdout",
     "output_type": "stream",
     "text": [
      "cooler\n",
      "heater\n",
      "cooler\n",
      "heater\n"
     ]
    }
   ],
   "source": [
    "n = input()\n",
    "t = input().split()\n",
    "for i in t:\n",
    "    if int(i)>15:\n",
    "        print('cooler')\n",
    "    else:\n",
    "        print('heater')"
   ]
  },
  {
   "cell_type": "code",
   "execution_count": 7,
   "id": "60a05c56",
   "metadata": {},
   "outputs": [
    {
     "name": "stdout",
     "output_type": "stream",
     "text": [
      "cooler\n",
      "heater\n",
      "cooler\n",
      "heater\n"
     ]
    },
    {
     "data": {
      "text/plain": [
       "[None, None, None, None]"
      ]
     },
     "execution_count": 7,
     "metadata": {},
     "output_type": "execute_result"
    }
   ],
   "source": [
    "n = input()\n",
    "t = input().split()\n",
    "def X(i):\n",
    "    if int(i)>15:\n",
    "        print('cooler')\n",
    "    else:\n",
    "        print('heater')\n",
    "list(map(X, t))"
   ]
  }
 ],
 "metadata": {
  "kernelspec": {
   "display_name": "Python 3 (ipykernel)",
   "language": "python",
   "name": "python3"
  },
  "language_info": {
   "codemirror_mode": {
    "name": "ipython",
    "version": 3
   },
   "file_extension": ".py",
   "mimetype": "text/x-python",
   "name": "python",
   "nbconvert_exporter": "python",
   "pygments_lexer": "ipython3",
   "version": "3.10.4"
  }
 },
 "nbformat": 4,
 "nbformat_minor": 5
}
